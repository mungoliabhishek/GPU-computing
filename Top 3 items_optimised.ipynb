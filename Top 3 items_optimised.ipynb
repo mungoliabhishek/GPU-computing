{
 "cells": [
  {
   "cell_type": "code",
   "execution_count": 79,
   "metadata": {},
   "outputs": [],
   "source": [
    "from numba import cuda\n",
    "import numpy as np \n",
    "import math\n",
    "import random"
   ]
  },
  {
   "cell_type": "code",
   "execution_count": 80,
   "metadata": {},
   "outputs": [],
   "source": [
    "n = 1000\n",
    "k = 64\n",
    "LARGE = 9999\n",
    "SMALL = -9999.0"
   ]
  },
  {
   "cell_type": "code",
   "execution_count": 81,
   "metadata": {},
   "outputs": [],
   "source": [
    "X = np.array(np.random.random((n, k)), dtype=np.float32)\n",
    "first_val = np.array(np.random.random((n,)), dtype=np.float32)\n",
    "first_index = np.array(np.random.random((n,)), dtype=np.int)\n",
    "second_val = np.array(np.random.random((n,)), dtype=np.float32)\n",
    "second_index = np.array(np.random.random((n,)), dtype=np.int)\n",
    "third_val = np.array(np.random.random((n,)), dtype=np.float32)\n",
    "third_index = np.array(np.random.random((n,)), dtype=np.int)"
   ]
  },
  {
   "cell_type": "code",
   "execution_count": 82,
   "metadata": {},
   "outputs": [],
   "source": [
    "np.random.seed(39)\n",
    "for i in range(n):\n",
    "    for j in range(k):\n",
    "        X[i, j] = np.random.uniform()"
   ]
  },
  {
   "cell_type": "code",
   "execution_count": 83,
   "metadata": {},
   "outputs": [],
   "source": [
    "X = np.array(X)\n",
    "first_val = np.array(first_val)\n",
    "first_index = np.array(first_index)\n",
    "second_val = np.array(second_val)\n",
    "second_index = np.array(second_index)\n",
    "third_val = np.array(third_val)\n",
    "third_index = np.array(third_index)"
   ]
  },
  {
   "cell_type": "code",
   "execution_count": 84,
   "metadata": {},
   "outputs": [
    {
     "data": {
      "text/plain": [
       "(1000, 64)"
      ]
     },
     "execution_count": 84,
     "metadata": {},
     "output_type": "execute_result"
    }
   ],
   "source": [
    "X.shape"
   ]
  },
  {
   "cell_type": "code",
   "execution_count": 85,
   "metadata": {},
   "outputs": [
    {
     "data": {
      "text/plain": [
       "(1000,)"
      ]
     },
     "execution_count": 85,
     "metadata": {},
     "output_type": "execute_result"
    }
   ],
   "source": [
    "first_val.shape"
   ]
  },
  {
   "cell_type": "code",
   "execution_count": 86,
   "metadata": {},
   "outputs": [
    {
     "name": "stdout",
     "output_type": "stream",
     "text": [
      "[[0.5468892  0.797899   0.8204019  ... 0.89582473 0.8865771  0.01363686]\n",
      " [0.8688695  0.30145565 0.94794893 ... 0.17431284 0.56729794 0.9840169 ]\n",
      " [0.52914655 0.43819624 0.91374445 ... 0.27539888 0.67386234 0.7993358 ]\n",
      " ...\n",
      " [0.4090994  0.20901293 0.4140183  ... 0.28330776 0.75779134 0.45883173]\n",
      " [0.8109479  0.40118718 0.5222902  ... 0.97156405 0.66615933 0.41582605]\n",
      " [0.05375513 0.60521764 0.273265   ... 0.8919072  0.9904292  0.85547155]]\n"
     ]
    }
   ],
   "source": [
    "print(X)"
   ]
  },
  {
   "cell_type": "code",
   "execution_count": 87,
   "metadata": {},
   "outputs": [],
   "source": [
    "@cuda.jit('void(float32[:,:],float32[:,:])')\n",
    "def cuda_mult(X,res):\n",
    "    \"\"\"This kernel function will be executed by a thread.\"\"\"\n",
    "    row = cuda.blockIdx.y * cuda.blockDim.y + cuda.threadIdx.y;\n",
    "    col = cuda.blockIdx.x * cuda.blockDim.x + cuda.threadIdx.x;\n",
    "    if ((row >= n) | (col >=n )):\n",
    "        return\n",
    "    temp_sum = 0.0\n",
    "    for i in range(n):\n",
    "        temp_sum += X[row,i] * X[i,col]\n",
    "    res[row,col] = temp_sum"
   ]
  },
  {
   "cell_type": "code",
   "execution_count": 88,
   "metadata": {},
   "outputs": [],
   "source": [
    "@cuda.jit('void(float32[:,:],float32[:],int32[:],float32[:],int32[:],float32[:],int32[:])')\n",
    "def cuda_dist(X,first_best_val,first_best_index,second_best_val,second_best_index,third_best_val,third_best_index):\n",
    "    \"\"\"This kernel function will be executed by a thread.\"\"\"\n",
    "    row = cuda.blockIdx.x * cuda.blockDim.x + cuda.threadIdx.x;\n",
    "    if ((row >= n)):\n",
    "        return\n",
    "    first_best_val[row] = SMALL\n",
    "    first_best_index[row] = -1\n",
    "    second_best_val[row] = SMALL\n",
    "    second_best_index[row] = -1\n",
    "    third_best_val[row] = SMALL\n",
    "    third_best_index[row] = -1\n",
    "    for i in range(n):\n",
    "        if(i==row):\n",
    "            continue\n",
    "        tmp = 0.0\n",
    "        magnitude1 = 0.0\n",
    "        magnitude2 = 0.0\n",
    "        for j in range(k):\n",
    "            tmp += X[row,j] * X[i,j]\n",
    "            magnitude1 += (X[row,j]* X[row,j])\n",
    "            magnitude2 += (X[i,j]* X[i,j])\n",
    "        tmp /= (math.sqrt(magnitude1)*math.sqrt(magnitude2))\n",
    "        if(tmp>=first_best_val[row]):\n",
    "            third_best_val[row] = second_best_val[row]\n",
    "            third_best_index[row] = second_best_index[row]\n",
    "            second_best_val[row] = first_best_val[row]\n",
    "            second_best_index[row] = first_best_index[row]\n",
    "            first_best_val[row] = tmp\n",
    "            first_best_index[row] = i\n",
    "        elif(tmp>=second_best_val[row]):\n",
    "            third_best_val[row] = second_best_val[row]\n",
    "            third_best_index[row] = second_best_index[row]\n",
    "            second_best_val[row] = tmp\n",
    "            second_best_index[row] = i\n",
    "        elif(tmp>third_best_val[row]):\n",
    "            third_best_val[row] = tmp\n",
    "            third_best_index[row] = i"
   ]
  },
  {
   "cell_type": "code",
   "execution_count": 89,
   "metadata": {},
   "outputs": [],
   "source": [
    "device = cuda.get_current_device()"
   ]
  },
  {
   "cell_type": "code",
   "execution_count": 90,
   "metadata": {},
   "outputs": [
    {
     "data": {
      "text/plain": [
       "32"
      ]
     },
     "execution_count": 90,
     "metadata": {},
     "output_type": "execute_result"
    }
   ],
   "source": [
    "device.WARP_SIZE "
   ]
  },
  {
   "cell_type": "code",
   "execution_count": 91,
   "metadata": {},
   "outputs": [],
   "source": [
    "d_x = cuda.to_device(X)\n",
    "d_first_val = cuda.device_array_like(first_val)\n",
    "d_first_index = cuda.device_array_like(first_index)\n",
    "d_second_val = cuda.device_array_like(second_val)\n",
    "d_second_index = cuda.device_array_like(second_index)\n",
    "d_third_val = cuda.device_array_like(third_val)\n",
    "d_third_index = cuda.device_array_like(third_index)\n",
    "\n",
    "tpb = device.WARP_SIZE       #blocksize or thread per block\n",
    "bpg = int(np.ceil((n)/tpb))  #block per grid"
   ]
  },
  {
   "cell_type": "code",
   "execution_count": 92,
   "metadata": {},
   "outputs": [
    {
     "data": {
      "text/plain": [
       "(32, 32, 1024)"
      ]
     },
     "execution_count": 92,
     "metadata": {},
     "output_type": "execute_result"
    }
   ],
   "source": [
    "tpb, bpg, tpb*bpg"
   ]
  },
  {
   "cell_type": "code",
   "execution_count": 93,
   "metadata": {},
   "outputs": [
    {
     "name": "stdout",
     "output_type": "stream",
     "text": [
      "CPU times: user 1.05 ms, sys: 5 µs, total: 1.05 ms\n",
      "Wall time: 807 µs\n"
     ]
    }
   ],
   "source": [
    "%time cuda_dist[bpg,tpb](d_x,d_first_val,d_first_index,d_second_val,d_second_index,d_third_val,d_third_index)"
   ]
  },
  {
   "cell_type": "code",
   "execution_count": 94,
   "metadata": {},
   "outputs": [
    {
     "name": "stdout",
     "output_type": "stream",
     "text": [
      "[0.8690864  0.85467416 0.88301265 0.8490018  0.85267186 0.8621937\n",
      " 0.87595296 0.86882657 0.8589149  0.849379  ]\n",
      "[569  56 608 717 273 268 923 133 736 691]\n"
     ]
    }
   ],
   "source": [
    "# Transfer output from device to host\n",
    "first_val = d_first_val.copy_to_host()\n",
    "print (first_val[:10])\n",
    "# Transfer output from device to host\n",
    "first_index = d_first_index.copy_to_host()\n",
    "print (first_index[:10])"
   ]
  },
  {
   "cell_type": "code",
   "execution_count": 95,
   "metadata": {},
   "outputs": [
    {
     "name": "stdout",
     "output_type": "stream",
     "text": [
      "[0.8519672  0.85417455 0.8783227  0.8452939  0.8482382  0.8562994\n",
      " 0.85805076 0.859112   0.84838    0.8474211 ]\n",
      "[984 374 848 581 210 974 960 217 862 758]\n"
     ]
    }
   ],
   "source": [
    "# Transfer output from device to host\n",
    "second_val = d_second_val.copy_to_host()\n",
    "print (second_val[:10])\n",
    "# Transfer output from device to host\n",
    "second_index = d_second_index.copy_to_host()\n",
    "print (second_index[:10])"
   ]
  },
  {
   "cell_type": "code",
   "execution_count": 96,
   "metadata": {},
   "outputs": [
    {
     "name": "stdout",
     "output_type": "stream",
     "text": [
      "[0.850451   0.84890485 0.869244   0.8399661  0.8410316  0.8502314\n",
      " 0.85478884 0.8560264  0.8478199  0.8473342 ]\n",
      "[633 909 347 842 613 576 862 409 906 948]\n"
     ]
    }
   ],
   "source": [
    "# Transfer output from device to host\n",
    "third_val = d_third_val.copy_to_host()\n",
    "print (third_val[:10])\n",
    "# Transfer output from device to host\n",
    "third_index = d_third_index.copy_to_host()\n",
    "print (third_index[:10])"
   ]
  },
  {
   "cell_type": "code",
   "execution_count": 97,
   "metadata": {},
   "outputs": [
    {
     "name": "stdout",
     "output_type": "stream",
     "text": [
      "Mon May 20 03:29:57 2019       \n",
      "+-----------------------------------------------------------------------------+\n",
      "| NVIDIA-SMI 410.72       Driver Version: 410.72       CUDA Version: 10.0     |\n",
      "|-------------------------------+----------------------+----------------------+\n",
      "| GPU  Name        Persistence-M| Bus-Id        Disp.A | Volatile Uncorr. ECC |\n",
      "| Fan  Temp  Perf  Pwr:Usage/Cap|         Memory-Usage | GPU-Util  Compute M. |\n",
      "|===============================+======================+======================|\n",
      "|   0  Tesla V100-SXM2...  Off  | 00000000:00:05.0 Off |                    0 |\n",
      "| N/A   37C    P0    56W / 300W |    454MiB / 16130MiB |      0%      Default |\n",
      "+-------------------------------+----------------------+----------------------+\n",
      "                                                                               \n",
      "+-----------------------------------------------------------------------------+\n",
      "| Processes:                                                       GPU Memory |\n",
      "|  GPU       PID   Type   Process name                             Usage      |\n",
      "|=============================================================================|\n",
      "+-----------------------------------------------------------------------------+\n"
     ]
    }
   ],
   "source": [
    "!nvidia-smi"
   ]
  },
  {
   "cell_type": "code",
   "execution_count": null,
   "metadata": {},
   "outputs": [],
   "source": []
  }
 ],
 "metadata": {
  "kernelspec": {
   "display_name": "Python 3",
   "language": "python",
   "name": "python3"
  },
  "language_info": {
   "codemirror_mode": {
    "name": "ipython",
    "version": 3
   },
   "file_extension": ".py",
   "mimetype": "text/x-python",
   "name": "python",
   "nbconvert_exporter": "python",
   "pygments_lexer": "ipython3",
   "version": "3.6.6"
  }
 },
 "nbformat": 4,
 "nbformat_minor": 2
}
