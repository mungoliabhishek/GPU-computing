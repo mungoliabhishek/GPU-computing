{
 "cells": [
  {
   "cell_type": "code",
   "execution_count": 1,
   "metadata": {},
   "outputs": [],
   "source": [
    "from numba import cuda\n",
    "import numpy as np \n",
    "import math\n",
    "import random"
   ]
  },
  {
   "cell_type": "code",
   "execution_count": 2,
   "metadata": {},
   "outputs": [],
   "source": [
    "n = 100000\n",
    "k = 64\n",
    "LARGE = 9999"
   ]
  },
  {
   "cell_type": "code",
   "execution_count": 3,
   "metadata": {},
   "outputs": [],
   "source": [
    "X = np.array(np.random.random((n, k)), dtype=np.float32)"
   ]
  },
  {
   "cell_type": "code",
   "execution_count": 4,
   "metadata": {},
   "outputs": [],
   "source": [
    "np.random.seed(39)\n",
    "for i in range(n):\n",
    "    for j in range(k):\n",
    "        X[i, j] = np.random.uniform()"
   ]
  },
  {
   "cell_type": "code",
   "execution_count": 5,
   "metadata": {},
   "outputs": [],
   "source": [
    "X = np.array(X)"
   ]
  },
  {
   "cell_type": "code",
   "execution_count": 6,
   "metadata": {},
   "outputs": [
    {
     "data": {
      "text/plain": [
       "(100000, 64)"
      ]
     },
     "execution_count": 6,
     "metadata": {},
     "output_type": "execute_result"
    }
   ],
   "source": [
    "X.shape"
   ]
  },
  {
   "cell_type": "code",
   "execution_count": 7,
   "metadata": {},
   "outputs": [
    {
     "name": "stdout",
     "output_type": "stream",
     "text": [
      "[[0.5468892  0.797899   0.8204019  ... 0.89582473 0.8865771  0.01363686]\n",
      " [0.8688695  0.30145565 0.94794893 ... 0.17431284 0.56729794 0.9840169 ]\n",
      " [0.52914655 0.43819624 0.91374445 ... 0.27539888 0.67386234 0.7993358 ]\n",
      " ...\n",
      " [0.45885056 0.5653358  0.6383706  ... 0.16754374 0.5548967  0.5647587 ]\n",
      " [0.702312   0.75162303 0.07410108 ... 0.46562812 0.52337885 0.14129098]\n",
      " [0.5299121  0.68515706 0.8040761  ... 0.8194798  0.16229047 0.68227106]]\n"
     ]
    }
   ],
   "source": [
    "print(X)"
   ]
  },
  {
   "cell_type": "code",
   "execution_count": 8,
   "metadata": {},
   "outputs": [],
   "source": [
    "# f= open(\"valX.txt\",\"w\")"
   ]
  },
  {
   "cell_type": "code",
   "execution_count": 9,
   "metadata": {},
   "outputs": [
    {
     "data": {
      "text/plain": [
       "'\\nfor i in range(n):\\n    f.write(\"[\")\\n    for j in range(k):\\n        if(j!=(k-1)):\\n            f.write(str(X[i,j])+\",\")\\n        else:\\n            f.write(str(X[i,j]))\\n    f.write(\"],\\n\")\\nf.close()\\n'"
      ]
     },
     "execution_count": 9,
     "metadata": {},
     "output_type": "execute_result"
    }
   ],
   "source": [
    "'''\n",
    "for i in range(n):\n",
    "    f.write(\"[\")\n",
    "    for j in range(k):\n",
    "        if(j!=(k-1)):\n",
    "            f.write(str(X[i,j])+\",\")\n",
    "        else:\n",
    "            f.write(str(X[i,j]))\n",
    "    f.write(\"],\\n\")\n",
    "f.close()\n",
    "'''"
   ]
  },
  {
   "cell_type": "code",
   "execution_count": 10,
   "metadata": {},
   "outputs": [],
   "source": [
    "@cuda.jit('void(float32[:,:],float32[:,:])')\n",
    "def cuda_mult(X,res):\n",
    "    \"\"\"This kernel function will be executed by a thread.\"\"\"\n",
    "    row = cuda.blockIdx.y * cuda.blockDim.y + cuda.threadIdx.y;\n",
    "    col = cuda.blockIdx.x * cuda.blockDim.x + cuda.threadIdx.x;\n",
    "    if ((row >= n) | (col >=n )):\n",
    "        return\n",
    "    temp_sum = 0.0\n",
    "    for i in range(n):\n",
    "        temp_sum += X[row,i] * X[i,col]\n",
    "    res[row,col] = temp_sum"
   ]
  },
  {
   "cell_type": "code",
   "execution_count": 11,
   "metadata": {},
   "outputs": [],
   "source": [
    "#@cuda.jit('void(float32[:,:],float32[:,:],float32[:,:],float32[:,:],float32[:,:],float32[:,:],float32[:,:])')\n",
    "@cuda.jit(max_registers=63) \n",
    "def cuda_dist(X,first_val,first_index,second_val,second_index,third_val,third_index):\n",
    "    \"\"\"This kernel function will be executed by a thread.\"\"\"\n",
    "    row = cuda.blockIdx.y * cuda.blockDim.y + cuda.threadIdx.y;\n",
    "    col = cuda.blockIdx.x * cuda.blockDim.x + cuda.threadIdx.x;\n",
    "    if ((row >= n) | (col >=k )):\n",
    "        return\n",
    "    if(col==0):\n",
    "        first_val[row,col] = LARGE\n",
    "        first_index[row,col] = -1\n",
    "        second_val[row,col] = LARGE\n",
    "        second_index[row,col] = -1\n",
    "        third_val[row,col] = LARGE\n",
    "        third_index[row,col] = -1\n",
    "        for i in range(n):\n",
    "            tmp = 0.0\n",
    "            magnitude1 = 0.0\n",
    "            magnitude2 = 0.0\n",
    "            for j in range(k):\n",
    "                tmp += X[row,j] * X[i,j]\n",
    "                magnitude1 += (X[row,j]* X[row,j])\n",
    "                magnitude2 += (X[i,j]* X[i,j])\n",
    "            tmp /= (math.sqrt(magnitude1)*math.sqrt(magnitude2))\n",
    "            if(tmp<=first_val[row,col]):\n",
    "                third_val[row,col] = second_val[row,col]\n",
    "                third_index[row,col] = second_index[row,col]\n",
    "                second_val[row,col] = first_val[row,col]\n",
    "                second_index[row,col] = first_index[row,col]\n",
    "                first_val[row,col] = tmp\n",
    "                first_index[row,col] = i\n",
    "            elif(tmp<=second_val[row,col]):\n",
    "                third_val[row,col] = second_val[row,col]\n",
    "                third_index[row,col] = second_index[row,col]\n",
    "                second_val[row,col] = tmp\n",
    "                second_index[row,col] = i\n",
    "            elif(tmp<third_val[row,col]):\n",
    "                third_val[row,col] = tmp\n",
    "                third_index[row,col] = i"
   ]
  },
  {
   "cell_type": "code",
   "execution_count": 12,
   "metadata": {},
   "outputs": [],
   "source": [
    "device = cuda.get_current_device()"
   ]
  },
  {
   "cell_type": "code",
   "execution_count": 13,
   "metadata": {},
   "outputs": [
    {
     "data": {
      "text/plain": [
       "32"
      ]
     },
     "execution_count": 13,
     "metadata": {},
     "output_type": "execute_result"
    }
   ],
   "source": [
    "device.WARP_SIZE "
   ]
  },
  {
   "cell_type": "code",
   "execution_count": 14,
   "metadata": {},
   "outputs": [],
   "source": [
    "d_x = cuda.to_device(X)\n",
    "d_first_val = cuda.device_array_like(d_x)\n",
    "d_first_index = cuda.device_array_like(d_x)\n",
    "d_second_val = cuda.device_array_like(d_x)\n",
    "d_second_index = cuda.device_array_like(d_x)\n",
    "d_third_val = cuda.device_array_like(d_x)\n",
    "d_third_index = cuda.device_array_like(d_x)\n",
    "\n",
    "tpb = device.WARP_SIZE       #blocksize or thread per block\n",
    "bpg = int(np.ceil((n)/tpb))  #block per grid\n",
    "\n",
    "# tpb = 64      #blocksize or thread per block\n",
    "# bpg = int(np.ceil((n)/tpb))  #block per grid"
   ]
  },
  {
   "cell_type": "code",
   "execution_count": 15,
   "metadata": {},
   "outputs": [
    {
     "data": {
      "text/plain": [
       "(32, 3125, 100000)"
      ]
     },
     "execution_count": 15,
     "metadata": {},
     "output_type": "execute_result"
    }
   ],
   "source": [
    "tpb, bpg, tpb*bpg"
   ]
  },
  {
   "cell_type": "code",
   "execution_count": 16,
   "metadata": {},
   "outputs": [
    {
     "name": "stdout",
     "output_type": "stream",
     "text": [
      "CPU times: user 481 ms, sys: 4.05 ms, total: 485 ms\n",
      "Wall time: 521 ms\n"
     ]
    }
   ],
   "source": [
    "%time cuda_dist[(bpg, bpg),(tpb, tpb)](d_x,d_first_val,d_first_index,d_second_val,d_second_index,d_third_val,d_third_index)\n",
    "\n"
   ]
  },
  {
   "cell_type": "code",
   "execution_count": 17,
   "metadata": {},
   "outputs": [
    {
     "name": "stdout",
     "output_type": "stream",
     "text": [
      "[0.5946886  0.58647776 0.58056897 ... 0.59682846 0.58217245 0.6008494 ]\n"
     ]
    }
   ],
   "source": [
    "# Transfer output from device to host\n",
    "first_val = d_first_val.copy_to_host()\n",
    "print (first_val[:,0])"
   ]
  },
  {
   "cell_type": "code",
   "execution_count": 18,
   "metadata": {},
   "outputs": [
    {
     "name": "stdout",
     "output_type": "stream",
     "text": [
      "[79925.  2864. 85290. ... 96717. 91650. 73333.]\n"
     ]
    }
   ],
   "source": [
    "# Transfer output from device to host\n",
    "first_index = d_first_index.copy_to_host()\n",
    "print (first_index[:,0])"
   ]
  },
  {
   "cell_type": "code",
   "execution_count": 24,
   "metadata": {},
   "outputs": [
    {
     "name": "stdout",
     "output_type": "stream",
     "text": [
      "[0.6087295  0.5974534  0.6098366  ... 0.61434644 0.61011004 0.60500836]\n",
      "[85069. 12623. 18617. ... 92748. 83048. 18236.]\n"
     ]
    }
   ],
   "source": [
    "# Transfer output from device to host\n",
    "second_val = d_second_val.copy_to_host()\n",
    "print (second_val[:,0])\n",
    "\n",
    "# Transfer output from device to host\n",
    "second_index = d_second_index.copy_to_host()\n",
    "print (second_index[:,0])"
   ]
  },
  {
   "cell_type": "code",
   "execution_count": 25,
   "metadata": {},
   "outputs": [
    {
     "name": "stdout",
     "output_type": "stream",
     "text": [
      "[0.61845475 0.60597354 0.61099565 ... 0.6225986  0.6101906  0.6053303 ]\n",
      "[90347. 13480. 76094. ... 70720. 17702. 14469.]\n"
     ]
    }
   ],
   "source": [
    "# Transfer output from device to host\n",
    "third_val = d_third_val.copy_to_host()\n",
    "print (third_val[:,0])\n",
    "\n",
    "# Transfer output from device to host\n",
    "third_index = d_third_index.copy_to_host()\n",
    "print (third_index[:,0])"
   ]
  },
  {
   "cell_type": "code",
   "execution_count": 20,
   "metadata": {},
   "outputs": [
    {
     "name": "stdout",
     "output_type": "stream",
     "text": [
      "Sun May  5 23:24:46 2019       \n",
      "+-----------------------------------------------------------------------------+\n",
      "| NVIDIA-SMI 410.72       Driver Version: 410.72       CUDA Version: 10.0     |\n",
      "|-------------------------------+----------------------+----------------------+\n",
      "| GPU  Name        Persistence-M| Bus-Id        Disp.A | Volatile Uncorr. ECC |\n",
      "| Fan  Temp  Perf  Pwr:Usage/Cap|         Memory-Usage | GPU-Util  Compute M. |\n",
      "|===============================+======================+======================|\n",
      "|   0  Tesla V100-SXM2...  Off  | 00000000:00:04.0 Off |                    0 |\n",
      "| N/A   43C    P0    61W / 300W |   1197MiB / 16130MiB |      0%      Default |\n",
      "+-------------------------------+----------------------+----------------------+\n",
      "                                                                               \n",
      "+-----------------------------------------------------------------------------+\n",
      "| Processes:                                                       GPU Memory |\n",
      "|  GPU       PID   Type   Process name                             Usage      |\n",
      "|=============================================================================|\n",
      "+-----------------------------------------------------------------------------+\n"
     ]
    }
   ],
   "source": [
    "!nvidia-smi"
   ]
  },
  {
   "cell_type": "code",
   "execution_count": 21,
   "metadata": {},
   "outputs": [],
   "source": []
  },
  {
   "cell_type": "code",
   "execution_count": 22,
   "metadata": {},
   "outputs": [],
   "source": []
  }
 ],
 "metadata": {
  "kernelspec": {
   "display_name": "Python 3",
   "language": "python",
   "name": "python3"
  },
  "language_info": {
   "codemirror_mode": {
    "name": "ipython",
    "version": 3
   },
   "file_extension": ".py",
   "mimetype": "text/x-python",
   "name": "python",
   "nbconvert_exporter": "python",
   "pygments_lexer": "ipython3",
   "version": "3.6.6"
  }
 },
 "nbformat": 4,
 "nbformat_minor": 2
}
