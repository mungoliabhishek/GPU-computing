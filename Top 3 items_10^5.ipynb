{
 "cells": [
  {
   "cell_type": "code",
   "execution_count": 26,
   "metadata": {},
   "outputs": [],
   "source": [
    "from numba import cuda\n",
    "import numpy as np \n",
    "import math\n",
    "import random"
   ]
  },
  {
   "cell_type": "code",
   "execution_count": 27,
   "metadata": {},
   "outputs": [],
   "source": [
    "n = 100000\n",
    "k = 64\n",
    "LARGE = 9999"
   ]
  },
  {
   "cell_type": "code",
   "execution_count": 28,
   "metadata": {},
   "outputs": [],
   "source": [
    "X = np.array(np.random.random((n, k)), dtype=np.float32)"
   ]
  },
  {
   "cell_type": "code",
   "execution_count": 29,
   "metadata": {},
   "outputs": [],
   "source": [
    "np.random.seed(39)\n",
    "for i in range(n):\n",
    "    for j in range(k):\n",
    "        X[i, j] = np.random.uniform()"
   ]
  },
  {
   "cell_type": "code",
   "execution_count": 30,
   "metadata": {},
   "outputs": [],
   "source": [
    "X = np.array(X)"
   ]
  },
  {
   "cell_type": "code",
   "execution_count": 31,
   "metadata": {},
   "outputs": [
    {
     "data": {
      "text/plain": [
       "(100000, 64)"
      ]
     },
     "execution_count": 31,
     "metadata": {},
     "output_type": "execute_result"
    }
   ],
   "source": [
    "X.shape"
   ]
  },
  {
   "cell_type": "code",
   "execution_count": 32,
   "metadata": {},
   "outputs": [
    {
     "name": "stdout",
     "output_type": "stream",
     "text": [
      "[[0.5468892  0.797899   0.8204019  ... 0.89582473 0.8865771  0.01363686]\n",
      " [0.8688695  0.30145565 0.94794893 ... 0.17431284 0.56729794 0.9840169 ]\n",
      " [0.52914655 0.43819624 0.91374445 ... 0.27539888 0.67386234 0.7993358 ]\n",
      " ...\n",
      " [0.45885056 0.5653358  0.6383706  ... 0.16754374 0.5548967  0.5647587 ]\n",
      " [0.702312   0.75162303 0.07410108 ... 0.46562812 0.52337885 0.14129098]\n",
      " [0.5299121  0.68515706 0.8040761  ... 0.8194798  0.16229047 0.68227106]]\n"
     ]
    }
   ],
   "source": [
    "print(X)"
   ]
  },
  {
   "cell_type": "code",
   "execution_count": 33,
   "metadata": {},
   "outputs": [],
   "source": [
    "# f= open(\"valX.txt\",\"w\")"
   ]
  },
  {
   "cell_type": "code",
   "execution_count": 34,
   "metadata": {},
   "outputs": [
    {
     "data": {
      "text/plain": [
       "'\\nfor i in range(n):\\n    f.write(\"[\")\\n    for j in range(k):\\n        if(j!=(k-1)):\\n            f.write(str(X[i,j])+\",\")\\n        else:\\n            f.write(str(X[i,j]))\\n    f.write(\"],\\n\")\\nf.close()\\n'"
      ]
     },
     "execution_count": 34,
     "metadata": {},
     "output_type": "execute_result"
    }
   ],
   "source": [
    "'''\n",
    "for i in range(n):\n",
    "    f.write(\"[\")\n",
    "    for j in range(k):\n",
    "        if(j!=(k-1)):\n",
    "            f.write(str(X[i,j])+\",\")\n",
    "        else:\n",
    "            f.write(str(X[i,j]))\n",
    "    f.write(\"],\\n\")\n",
    "f.close()\n",
    "'''"
   ]
  },
  {
   "cell_type": "code",
   "execution_count": 35,
   "metadata": {},
   "outputs": [],
   "source": [
    "@cuda.jit('void(float32[:,:],float32[:,:])')\n",
    "def cuda_mult(X,res):\n",
    "    \"\"\"This kernel function will be executed by a thread.\"\"\"\n",
    "    row = cuda.blockIdx.y * cuda.blockDim.y + cuda.threadIdx.y;\n",
    "    col = cuda.blockIdx.x * cuda.blockDim.x + cuda.threadIdx.x;\n",
    "    if ((row >= n) | (col >=n )):\n",
    "        return\n",
    "    temp_sum = 0.0\n",
    "    for i in range(n):\n",
    "        temp_sum += X[row,i] * X[i,col]\n",
    "    res[row,col] = temp_sum"
   ]
  },
  {
   "cell_type": "code",
   "execution_count": 36,
   "metadata": {},
   "outputs": [],
   "source": [
    "#@cuda.jit('void(float32[:,:],float32[:,:],float32[:,:],float32[:,:],float32[:,:],float32[:,:],float32[:,:])')\n",
    "@cuda.jit(max_registers=63) \n",
    "def cuda_dist(X,first_val,first_index,second_val,second_index,third_val,third_index):\n",
    "    SMALL = -9999.0\n",
    "    \"\"\"This kernel function will be executed by a thread.\"\"\"\n",
    "    row = cuda.blockIdx.y * cuda.blockDim.y + cuda.threadIdx.y;\n",
    "    col = cuda.blockIdx.x * cuda.blockDim.x + cuda.threadIdx.x;\n",
    "    if ((row >= n) | (col >=k )):\n",
    "        return\n",
    "    if(col==0):\n",
    "        first_val[row,col] = SMALL\n",
    "        first_index[row,col] = -1\n",
    "        second_val[row,col] = SMALL\n",
    "        second_index[row,col] = -1\n",
    "        third_val[row,col] = SMALL\n",
    "        third_index[row,col] = -1\n",
    "        for i in range(n):\n",
    "            tmp = 0.0\n",
    "            magnitude1 = 0.0\n",
    "            magnitude2 = 0.0\n",
    "            for j in range(k):\n",
    "                tmp += X[row,j] * X[i,j]\n",
    "                magnitude1 += (X[row,j]* X[row,j])\n",
    "                magnitude2 += (X[i,j]* X[i,j])\n",
    "            tmp /= (math.sqrt(magnitude1)*math.sqrt(magnitude2))\n",
    "            if(tmp>=first_val[row,col]):\n",
    "                third_val[row,col] = second_val[row,col]\n",
    "                third_index[row,col] = second_index[row,col]\n",
    "                second_val[row,col] = first_val[row,col]\n",
    "                second_index[row,col] = first_index[row,col]\n",
    "                first_val[row,col] = tmp\n",
    "                first_index[row,col] = i\n",
    "            elif(tmp>=second_val[row,col]):\n",
    "                third_val[row,col] = second_val[row,col]\n",
    "                third_index[row,col] = second_index[row,col]\n",
    "                second_val[row,col] = tmp\n",
    "                second_index[row,col] = i\n",
    "            elif(tmp>third_val[row,col]):\n",
    "                third_val[row,col] = tmp\n",
    "                third_index[row,col] = i"
   ]
  },
  {
   "cell_type": "code",
   "execution_count": 37,
   "metadata": {},
   "outputs": [],
   "source": [
    "device = cuda.get_current_device()"
   ]
  },
  {
   "cell_type": "code",
   "execution_count": 38,
   "metadata": {},
   "outputs": [
    {
     "data": {
      "text/plain": [
       "32"
      ]
     },
     "execution_count": 38,
     "metadata": {},
     "output_type": "execute_result"
    }
   ],
   "source": [
    "device.WARP_SIZE "
   ]
  },
  {
   "cell_type": "code",
   "execution_count": 39,
   "metadata": {},
   "outputs": [],
   "source": [
    "d_x = cuda.to_device(X)\n",
    "d_first_val = cuda.device_array_like(d_x)\n",
    "d_first_index = cuda.device_array_like(d_x)\n",
    "d_second_val = cuda.device_array_like(d_x)\n",
    "d_second_index = cuda.device_array_like(d_x)\n",
    "d_third_val = cuda.device_array_like(d_x)\n",
    "d_third_index = cuda.device_array_like(d_x)\n",
    "\n",
    "tpb = device.WARP_SIZE       #blocksize or thread per block\n",
    "bpg = int(np.ceil((n)/tpb))  #block per grid\n"
   ]
  },
  {
   "cell_type": "code",
   "execution_count": 40,
   "metadata": {},
   "outputs": [
    {
     "data": {
      "text/plain": [
       "(32, 3125, 100000)"
      ]
     },
     "execution_count": 40,
     "metadata": {},
     "output_type": "execute_result"
    }
   ],
   "source": [
    "tpb, bpg, tpb*bpg"
   ]
  },
  {
   "cell_type": "code",
   "execution_count": 41,
   "metadata": {},
   "outputs": [
    {
     "name": "stdout",
     "output_type": "stream",
     "text": [
      "CPU times: user 427 ms, sys: 0 ns, total: 427 ms\n",
      "Wall time: 453 ms\n"
     ]
    }
   ],
   "source": [
    "%time cuda_dist[(bpg, bpg),(tpb, tpb)](d_x,d_first_val,d_first_index,d_second_val,d_second_index,d_third_val,d_third_index)\n",
    "\n"
   ]
  },
  {
   "cell_type": "code",
   "execution_count": 42,
   "metadata": {},
   "outputs": [
    {
     "name": "stdout",
     "output_type": "stream",
     "text": [
      "[1. 1. 1. ... 1. 1. 1.]\n"
     ]
    }
   ],
   "source": [
    "# Transfer output from device to host\n",
    "first_val = d_first_val.copy_to_host()\n",
    "print (first_val[:,0])"
   ]
  },
  {
   "cell_type": "code",
   "execution_count": 43,
   "metadata": {},
   "outputs": [
    {
     "name": "stdout",
     "output_type": "stream",
     "text": [
      "[0.0000e+00 1.0000e+00 2.0000e+00 ... 9.9997e+04 9.9998e+04 9.9999e+04]\n"
     ]
    }
   ],
   "source": [
    "# Transfer output from device to host\n",
    "first_index = d_first_index.copy_to_host()\n",
    "print (first_index[:,0])"
   ]
  },
  {
   "cell_type": "code",
   "execution_count": 44,
   "metadata": {},
   "outputs": [
    {
     "name": "stdout",
     "output_type": "stream",
     "text": [
      "[0.91594034 0.89068705 0.89246786 ... 0.8838843  0.8867385  0.8910104 ]\n",
      "[59243.  1885. 65836. ... 15520. 75121.  1471.]\n"
     ]
    }
   ],
   "source": [
    "# Transfer output from device to host\n",
    "second_val = d_second_val.copy_to_host()\n",
    "print (second_val[:,0])\n",
    "\n",
    "# Transfer output from device to host\n",
    "second_index = d_second_index.copy_to_host()\n",
    "print (second_index[:,0])"
   ]
  },
  {
   "cell_type": "code",
   "execution_count": 45,
   "metadata": {},
   "outputs": [
    {
     "name": "stdout",
     "output_type": "stream",
     "text": [
      "[0.90159434 0.89040256 0.89246047 ... 0.88327575 0.88625014 0.88911617]\n",
      "[10844. 36039. 20916. ... 54688. 72831. 71717.]\n"
     ]
    }
   ],
   "source": [
    "# Transfer output from device to host\n",
    "third_val = d_third_val.copy_to_host()\n",
    "print (third_val[:,0])\n",
    "\n",
    "# Transfer output from device to host\n",
    "third_index = d_third_index.copy_to_host()\n",
    "print (third_index[:,0])"
   ]
  },
  {
   "cell_type": "code",
   "execution_count": 46,
   "metadata": {},
   "outputs": [
    {
     "name": "stdout",
     "output_type": "stream",
     "text": [
      "Mon May  6 06:47:23 2019       \n",
      "+-----------------------------------------------------------------------------+\n",
      "| NVIDIA-SMI 410.72       Driver Version: 410.72       CUDA Version: 10.0     |\n",
      "|-------------------------------+----------------------+----------------------+\n",
      "| GPU  Name        Persistence-M| Bus-Id        Disp.A | Volatile Uncorr. ECC |\n",
      "| Fan  Temp  Perf  Pwr:Usage/Cap|         Memory-Usage | GPU-Util  Compute M. |\n",
      "|===============================+======================+======================|\n",
      "|   0  Tesla V100-SXM2...  Off  | 00000000:00:04.0 Off |                    0 |\n",
      "| N/A   43C    P0    61W / 300W |   1379MiB / 16130MiB |      0%      Default |\n",
      "+-------------------------------+----------------------+----------------------+\n",
      "                                                                               \n",
      "+-----------------------------------------------------------------------------+\n",
      "| Processes:                                                       GPU Memory |\n",
      "|  GPU       PID   Type   Process name                             Usage      |\n",
      "|=============================================================================|\n",
      "+-----------------------------------------------------------------------------+\n"
     ]
    }
   ],
   "source": [
    "!nvidia-smi"
   ]
  },
  {
   "cell_type": "code",
   "execution_count": 21,
   "metadata": {},
   "outputs": [],
   "source": []
  },
  {
   "cell_type": "code",
   "execution_count": 22,
   "metadata": {},
   "outputs": [],
   "source": []
  }
 ],
 "metadata": {
  "kernelspec": {
   "display_name": "Python 3",
   "language": "python",
   "name": "python3"
  },
  "language_info": {
   "codemirror_mode": {
    "name": "ipython",
    "version": 3
   },
   "file_extension": ".py",
   "mimetype": "text/x-python",
   "name": "python",
   "nbconvert_exporter": "python",
   "pygments_lexer": "ipython3",
   "version": "3.6.6"
  }
 },
 "nbformat": 4,
 "nbformat_minor": 2
}
