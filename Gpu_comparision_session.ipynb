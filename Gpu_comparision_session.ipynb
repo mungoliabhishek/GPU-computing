{
 "cells": [
  {
   "cell_type": "code",
   "execution_count": 1,
   "metadata": {},
   "outputs": [],
   "source": [
    "import pandas as pd\n",
    "import numpy as np\n",
    "import datetime as dt\n",
    "import time\n",
    "import matplotlib.dates as mdates\n",
    "import seaborn as sns\n",
    "import matplotlib.pyplot as plt\n",
    "from pandasql import *\n",
    "import seaborn as sns\n",
    "import warnings\n",
    "from numpy import *\n",
    "from sklearn.metrics import accuracy_score\n",
    "import math\n",
    "import xgboost as xgb\n",
    "from sklearn.metrics import mean_squared_error\n",
    "from math import sqrt\n",
    "warnings.filterwarnings('ignore')\n",
    "%matplotlib inline"
   ]
  },
  {
   "cell_type": "code",
   "execution_count": 11,
   "metadata": {},
   "outputs": [],
   "source": [
    "n = 1000\n",
    "k = 64\n",
    "X = np.zeros(shape=(n,k))\n",
    "np.random.seed(39)\n",
    "for i in range(n):\n",
    "    for j in range(k):\n",
    "        X[i][j] = np.random.uniform()"
   ]
  },
  {
   "cell_type": "code",
   "execution_count": 12,
   "metadata": {},
   "outputs": [],
   "source": [
    "X=np.array(X)"
   ]
  },
  {
   "cell_type": "code",
   "execution_count": 13,
   "metadata": {},
   "outputs": [
    {
     "name": "stdout",
     "output_type": "stream",
     "text": [
      "[[0.54688916 0.79789902 0.82040188 ... 0.89582475 0.88657711 0.01363686]\n",
      " [0.86886947 0.30145564 0.94794894 ... 0.17431285 0.56729794 0.98401691]\n",
      " [0.52914654 0.43819623 0.91374443 ... 0.27539889 0.67386232 0.79933576]\n",
      " ...\n",
      " [0.4090994  0.20901292 0.4140183  ... 0.28330777 0.75779136 0.45883172]\n",
      " [0.81094791 0.40118719 0.5222902  ... 0.97156403 0.66615932 0.41582605]\n",
      " [0.05375513 0.60521764 0.27326501 ... 0.89190722 0.99042922 0.85547152]]\n"
     ]
    }
   ],
   "source": [
    "print(X)"
   ]
  },
  {
   "cell_type": "code",
   "execution_count": 14,
   "metadata": {},
   "outputs": [],
   "source": [
    "def cal_top1(X):\n",
    "    #top-1 item\n",
    "    SMALL = -9999.99\n",
    "    first_best_index = np.zeros(n,dtype=int)\n",
    "    first_best_val = np.zeros(n,dtype=float)\n",
    "    for i in range(n):\n",
    "        first_best_val[i] = SMALL\n",
    "        first_best_index[i] = -1\n",
    "        for j in range(n):\n",
    "            if(i==j):\n",
    "                continue\n",
    "            tmp = 0.0\n",
    "            magnitude1 = 0\n",
    "            magnitude2 = 0\n",
    "            for t in range(k):\n",
    "                tmp += X[i,t] * X[j,t]\n",
    "                magnitude1 += X[i,t]*X[i,t]\n",
    "                magnitude2 += X[j,t]*X[j,t]\n",
    "            tmp/= math.sqrt(magnitude1* magnitude2)\n",
    "            if(tmp>first_best_val[i]):\n",
    "                first_best_val[i] = tmp\n",
    "                first_best_index[i] = j\n",
    "    return first_best_val,first_best_index"
   ]
  },
  {
   "cell_type": "code",
   "execution_count": 15,
   "metadata": {},
   "outputs": [],
   "source": [
    "def cal_top1_optimised(X):\n",
    "    #top-1 item\n",
    "    SMALL = -9999.99\n",
    "    first_best_index = np.zeros(n,dtype=int)\n",
    "    first_best_val = np.zeros(n,dtype=float)\n",
    "    for i in range(n):\n",
    "        first_best_val[i] = SMALL\n",
    "        first_best_index[i] = -1\n",
    "        for j in range(n):\n",
    "            if(i==j):\n",
    "                continue\n",
    "            tmp = np.dot(X[i],X[j])/(np.sqrt(np.sum(np.square(X[i]))) * np.sqrt(np.sum(np.square(X[j]))))\n",
    "            if(tmp>first_best_val[i]):\n",
    "                first_best_val[i] = tmp\n",
    "                first_best_index[i] = j\n",
    "    return first_best_val,first_best_index"
   ]
  },
  {
   "cell_type": "code",
   "execution_count": 16,
   "metadata": {},
   "outputs": [
    {
     "name": "stdout",
     "output_type": "stream",
     "text": [
      "CPU times: user 1min 54s, sys: 146 ms, total: 1min 54s\n",
      "Wall time: 1min 54s\n"
     ]
    }
   ],
   "source": [
    "%time first_best_val,first_best_index = cal_top1(X)"
   ]
  },
  {
   "cell_type": "code",
   "execution_count": 17,
   "metadata": {},
   "outputs": [
    {
     "data": {
      "text/plain": [
       "array([0.8690864 , 0.85467417, 0.88301265, 0.84900181, 0.85267185,\n",
       "       0.8621937 , 0.87595297, 0.86882657, 0.85891488, 0.84937903])"
      ]
     },
     "execution_count": 17,
     "metadata": {},
     "output_type": "execute_result"
    }
   ],
   "source": [
    "first_best_val[0:10]"
   ]
  },
  {
   "cell_type": "code",
   "execution_count": 18,
   "metadata": {},
   "outputs": [
    {
     "data": {
      "text/plain": [
       "array([569,  56, 608, 717, 273, 268, 923, 133, 736, 691])"
      ]
     },
     "execution_count": 18,
     "metadata": {},
     "output_type": "execute_result"
    }
   ],
   "source": [
    "first_best_index[0:10]"
   ]
  },
  {
   "cell_type": "code",
   "execution_count": 19,
   "metadata": {},
   "outputs": [
    {
     "name": "stdout",
     "output_type": "stream",
     "text": [
      "CPU times: user 18 s, sys: 177 ms, total: 18.2 s\n",
      "Wall time: 18 s\n"
     ]
    }
   ],
   "source": [
    "%time first_best_val,first_best_index = cal_top1_optimised(X)"
   ]
  },
  {
   "cell_type": "code",
   "execution_count": 20,
   "metadata": {},
   "outputs": [
    {
     "data": {
      "text/plain": [
       "array([0.8690864 , 0.85467417, 0.88301265, 0.84900181, 0.85267185,\n",
       "       0.8621937 , 0.87595297, 0.86882657, 0.85891488, 0.84937903])"
      ]
     },
     "execution_count": 20,
     "metadata": {},
     "output_type": "execute_result"
    }
   ],
   "source": [
    "first_best_val[0:10]"
   ]
  },
  {
   "cell_type": "code",
   "execution_count": 21,
   "metadata": {},
   "outputs": [
    {
     "data": {
      "text/plain": [
       "array([569,  56, 608, 717, 273, 268, 923, 133, 736, 691])"
      ]
     },
     "execution_count": 21,
     "metadata": {},
     "output_type": "execute_result"
    }
   ],
   "source": [
    "first_best_index[0:10]"
   ]
  },
  {
   "cell_type": "code",
   "execution_count": 43,
   "metadata": {},
   "outputs": [],
   "source": [
    "def cal_top3(X):\n",
    "    #top-1 item\n",
    "    SMALL = -9999.99\n",
    "    first_best_index = np.zeros(n,dtype=int)\n",
    "    first_best_val = np.zeros(n,dtype=float)\n",
    "    second_best_index = np.zeros(n,dtype=int)\n",
    "    second_best_val = np.zeros(n,dtype=float)\n",
    "    third_best_index = np.zeros(n,dtype=int)\n",
    "    third_best_val = np.zeros(n,dtype=float)\n",
    "    for i in range(n):\n",
    "        first_best_val[i] = SMALL\n",
    "        first_best_index[i] = -1\n",
    "        second_best_val[i] = SMALL\n",
    "        second_best_index[i] = -1\n",
    "        third_best_val[i] = SMALL\n",
    "        third_best_index[i] = -1\n",
    "        for j in range(n):\n",
    "            if(i==j):\n",
    "                continue\n",
    "            tmp = 0.0\n",
    "            magnitude1 = 0\n",
    "            magnitude2 = 0\n",
    "            for t in range(k):\n",
    "                tmp += X[i,t] * X[j,t]\n",
    "                magnitude1 += X[i,t]*X[i,t]\n",
    "                magnitude2 += X[j,t]*X[j,t]\n",
    "            tmp/= math.sqrt(magnitude1* magnitude2)\n",
    "            if(tmp>=first_best_val[i]):\n",
    "                third_best_val[i] = second_best_val[i]\n",
    "                third_best_index[i] = second_best_index[i]\n",
    "                second_best_val[i] = first_best_val[i]\n",
    "                second_best_index[i] = first_best_index[i]\n",
    "                first_best_val[i] = tmp\n",
    "                first_best_index[i] = j\n",
    "            elif(tmp>=second_best_val[i]):\n",
    "                third_best_val[i] = second_best_val[i]\n",
    "                third_best_index[i] = second_best_index[i]\n",
    "                second_best_val[i] = tmp\n",
    "                second_best_index[i] = j\n",
    "            elif(tmp>third_best_val[i]):\n",
    "                third_best_val[i] = tmp\n",
    "                third_best_index[i] = j\n",
    "    return first_best_val,first_best_index,second_best_val,second_best_index,third_best_val,third_best_index"
   ]
  },
  {
   "cell_type": "code",
   "execution_count": 44,
   "metadata": {},
   "outputs": [],
   "source": [
    "def cal_top3_optimised(X):\n",
    "    #top-1 item\n",
    "    SMALL = -9999.99\n",
    "    first_best_index = np.zeros(n,dtype=int)\n",
    "    first_best_val = np.zeros(n,dtype=float)\n",
    "    second_best_index = np.zeros(n,dtype=int)\n",
    "    second_best_val = np.zeros(n,dtype=float)\n",
    "    third_best_index = np.zeros(n,dtype=int)\n",
    "    third_best_val = np.zeros(n,dtype=float)\n",
    "    for i in range(n):\n",
    "        first_best_val[i] = SMALL\n",
    "        first_best_index[i] = -1\n",
    "        second_best_val[i] = SMALL\n",
    "        second_best_index[i] = -1\n",
    "        third_best_val[i] = SMALL\n",
    "        third_best_index[i] = -1\n",
    "        for j in range(n):\n",
    "            if(i==j):\n",
    "                continue\n",
    "            tmp = np.dot(X[i],X[j])/(np.sqrt(np.sum(np.square(X[i]))) * np.sqrt(np.sum(np.square(X[j]))))\n",
    "            if(tmp>=first_best_val[i]):\n",
    "                third_best_val[i] = second_best_val[i]\n",
    "                third_best_index[i] = second_best_index[i]\n",
    "                second_best_val[i] = first_best_val[i]\n",
    "                second_best_index[i] = first_best_index[i]\n",
    "                first_best_val[i] = tmp\n",
    "                first_best_index[i] = j\n",
    "            elif(tmp>=second_best_val[i]):\n",
    "                third_best_val[i] = second_best_val[i]\n",
    "                third_best_index[i] = second_best_index[i]\n",
    "                second_best_val[i] = tmp\n",
    "                second_best_index[i] = j\n",
    "            elif(tmp>third_best_val[i]):\n",
    "                third_best_val[i] = tmp\n",
    "                third_best_index[i] = j\n",
    "    return first_best_val,first_best_index,second_best_val,second_best_index,third_best_val,third_best_index"
   ]
  },
  {
   "cell_type": "code",
   "execution_count": 142,
   "metadata": {},
   "outputs": [
    {
     "name": "stdout",
     "output_type": "stream",
     "text": [
      "CPU times: user 28min 35s, sys: 10.5 s, total: 28min 46s\n",
      "Wall time: 28min 42s\n"
     ]
    }
   ],
   "source": [
    "%time first_best_val,first_best_index,second_best_val,second_best_index,third_best_val,third_best_index = cal(X)"
   ]
  },
  {
   "cell_type": "code",
   "execution_count": 28,
   "metadata": {},
   "outputs": [],
   "source": [
    "import gensim\n",
    "\n",
    "# Load Google's pre-trained Word2Vec model.\n",
    "model = gensim.models.KeyedVectors.load_word2vec_format('/Users/a0m00vn/aps/TathaAstu Hackathon/Finals/Datathon/GoogleNews-vectors-negative300.bin', binary=True)\n",
    "\n"
   ]
  },
  {
   "cell_type": "code",
   "execution_count": 30,
   "metadata": {},
   "outputs": [
    {
     "data": {
      "text/plain": [
       "array([-2.08984375e-01,  1.30859375e-01, -4.95605469e-02,  3.32031250e-01,\n",
       "        8.15429688e-02,  1.09863281e-01,  6.07910156e-02, -2.06054688e-01,\n",
       "       -1.31835938e-01,  1.17675781e-01,  1.00097656e-01, -3.67187500e-01,\n",
       "        2.12890625e-01,  2.92968750e-01, -2.92968750e-01,  1.39160156e-02,\n",
       "       -1.16699219e-01,  1.58203125e-01,  1.37695312e-01, -1.93359375e-01,\n",
       "       -2.00195312e-01,  1.12304688e-01,  2.86865234e-02, -2.31445312e-01,\n",
       "       -6.44531250e-02,  5.46875000e-01, -3.61328125e-01,  7.27539062e-02,\n",
       "        1.69921875e-01, -7.71484375e-02,  5.63964844e-02, -2.04101562e-01,\n",
       "       -2.20703125e-01,  2.31933594e-02, -3.00781250e-01, -1.51367188e-01,\n",
       "       -2.47070312e-01, -3.26171875e-01,  1.99890137e-03, -5.05371094e-02,\n",
       "       -1.03027344e-01, -1.88476562e-01,  3.33984375e-01, -9.27734375e-03,\n",
       "       -2.63671875e-01, -1.65039062e-01, -4.00390625e-01, -1.34765625e-01,\n",
       "        6.83593750e-02,  1.06811523e-02, -1.66015625e-01,  1.72851562e-01,\n",
       "       -3.51562500e-02, -9.13085938e-02,  3.11279297e-02, -1.93359375e-01,\n",
       "       -6.25610352e-03,  3.95507812e-02,  1.39648438e-01, -4.96093750e-01,\n",
       "        8.83789062e-02,  2.43164062e-01, -3.08593750e-01, -1.36718750e-01,\n",
       "        8.15429688e-02, -3.39355469e-02, -1.24511719e-01, -9.03320312e-02,\n",
       "        3.45703125e-01, -1.32446289e-02,  2.45117188e-01,  1.31835938e-01,\n",
       "        3.80859375e-01, -2.41210938e-01, -1.91650391e-02, -7.27539062e-02,\n",
       "       -1.67968750e-01,  1.19628906e-01, -7.86132812e-02, -2.11914062e-01,\n",
       "        1.56250000e-01, -1.01074219e-01, -8.78906250e-02, -8.15429688e-02,\n",
       "       -1.04492188e-01, -8.74023438e-02,  1.66015625e-01,  1.74804688e-01,\n",
       "        1.25976562e-01,  1.37695312e-01, -1.02050781e-01,  4.22363281e-02,\n",
       "        1.04980469e-01, -9.17968750e-02, -2.40234375e-01,  1.66992188e-01,\n",
       "       -9.81445312e-02, -1.47460938e-01, -5.71289062e-02,  4.10156250e-02,\n",
       "       -2.73437500e-01, -3.88671875e-01,  1.67236328e-02,  2.94921875e-01,\n",
       "       -1.24023438e-01,  7.47070312e-02,  2.10937500e-01, -4.24804688e-02,\n",
       "        1.90429688e-01, -1.50390625e-01, -1.62109375e-01, -9.13085938e-02,\n",
       "       -3.00781250e-01, -4.58984375e-02,  1.54296875e-01, -2.40234375e-01,\n",
       "        5.83496094e-02, -1.45507812e-01,  8.05664062e-02,  2.08984375e-01,\n",
       "       -1.68457031e-02,  3.51562500e-01,  4.96093750e-01, -9.17968750e-02,\n",
       "       -3.90625000e-02,  2.96875000e-01,  1.53320312e-01, -6.49414062e-02,\n",
       "        3.14453125e-01, -1.27929688e-01,  1.57226562e-01,  1.12792969e-01,\n",
       "        1.65039062e-01,  2.88085938e-02, -1.91406250e-01,  2.51953125e-01,\n",
       "        1.23901367e-02,  1.84570312e-01, -2.46093750e-01, -1.66015625e-01,\n",
       "       -1.47460938e-01, -8.78906250e-03, -1.97265625e-01, -1.46484375e-01,\n",
       "        3.36914062e-02, -8.05664062e-02,  1.48315430e-02,  2.44140625e-02,\n",
       "       -1.19140625e-01, -1.87500000e-01,  2.96875000e-01, -1.15234375e-01,\n",
       "       -1.66015625e-01, -1.22070312e-01,  1.58203125e-01, -1.42578125e-01,\n",
       "       -3.17382812e-02, -3.67187500e-01, -1.86523438e-01, -9.52148438e-02,\n",
       "       -3.84765625e-01, -5.44433594e-02,  2.30468750e-01,  4.39453125e-01,\n",
       "       -1.50390625e-01, -2.33398438e-01,  2.41210938e-01,  9.21630859e-03,\n",
       "        1.40991211e-02,  1.98242188e-01, -1.87500000e-01,  3.37890625e-01,\n",
       "        2.35351562e-01, -2.42187500e-01, -1.91406250e-01, -3.86718750e-01,\n",
       "       -1.25976562e-01, -1.03515625e-01, -1.73339844e-02, -2.35351562e-01,\n",
       "        1.33666992e-02, -2.79296875e-01, -3.08593750e-01,  8.64257812e-02,\n",
       "        2.05078125e-01,  1.56250000e-02,  1.34887695e-02, -1.98974609e-02,\n",
       "        4.34570312e-02, -4.46777344e-02, -2.59765625e-01,  1.39648438e-01,\n",
       "       -1.48437500e-01,  2.55126953e-02,  1.75781250e-01,  1.25000000e-01,\n",
       "        2.17285156e-02, -6.83593750e-02,  3.19824219e-02, -1.27929688e-01,\n",
       "       -1.25000000e-01, -1.61132812e-01,  1.23535156e-01, -1.11328125e-01,\n",
       "       -4.76074219e-02,  1.07288361e-04,  3.73046875e-01,  2.89062500e-01,\n",
       "        1.13525391e-02, -2.19726562e-01, -3.76953125e-01, -1.86767578e-02,\n",
       "       -8.15429688e-02, -1.65039062e-01,  1.55029297e-02, -3.18359375e-01,\n",
       "       -3.37890625e-01, -1.27929688e-01,  1.56250000e-01,  8.59375000e-02,\n",
       "        2.69531250e-01,  3.05175781e-04,  3.61328125e-02, -5.17578125e-02,\n",
       "        1.33789062e-01, -1.29882812e-01, -1.69677734e-02, -2.16796875e-01,\n",
       "        2.14843750e-01,  1.47460938e-01, -2.29492188e-02,  8.44726562e-02,\n",
       "       -2.65625000e-01,  2.67578125e-01, -1.55273438e-01, -6.98242188e-02,\n",
       "        3.12500000e-01, -1.61132812e-01,  1.10351562e-01, -8.49609375e-02,\n",
       "        2.73437500e-01,  5.46875000e-02,  3.78906250e-01,  2.00195312e-01,\n",
       "       -1.23046875e-01,  6.64062500e-02,  4.46777344e-02,  2.50000000e-01,\n",
       "        1.25976562e-01, -2.23632812e-01, -1.93359375e-01,  2.78320312e-02,\n",
       "        2.75390625e-01, -1.57165527e-03, -2.81982422e-02, -2.69531250e-01,\n",
       "       -2.38281250e-01, -1.15203857e-03, -2.87109375e-01, -1.86523438e-01,\n",
       "       -3.20312500e-01, -1.06811523e-02, -2.36328125e-01,  3.16406250e-01,\n",
       "       -1.60156250e-01, -1.91406250e-01, -1.20117188e-01,  3.85742188e-02,\n",
       "       -7.03125000e-02, -9.57031250e-02,  1.52343750e-01,  2.26562500e-01,\n",
       "        1.95312500e-02, -8.93554688e-02,  2.09960938e-01, -7.76367188e-02,\n",
       "       -7.08007812e-02, -5.42968750e-01, -1.96533203e-02,  2.06298828e-02,\n",
       "        2.57812500e-01, -1.75781250e-01,  1.66992188e-01, -1.11328125e-01,\n",
       "       -2.06054688e-01, -7.32421875e-02, -8.05664062e-02,  4.95605469e-02,\n",
       "       -2.55859375e-01,  5.03906250e-01,  8.10546875e-02, -2.91015625e-01,\n",
       "        3.04687500e-01, -2.21679688e-01, -1.28906250e-01, -1.88476562e-01,\n",
       "        3.75976562e-02,  3.53515625e-01,  7.17773438e-02,  3.37890625e-01],\n",
       "      dtype=float32)"
      ]
     },
     "execution_count": 30,
     "metadata": {},
     "output_type": "execute_result"
    }
   ],
   "source": [
    "model['tea']"
   ]
  },
  {
   "cell_type": "code",
   "execution_count": 31,
   "metadata": {},
   "outputs": [
    {
     "data": {
      "text/plain": [
       "array([-2.08984375e-01,  1.30859375e-01, -4.95605469e-02,  3.32031250e-01,\n",
       "        8.15429688e-02,  1.09863281e-01,  6.07910156e-02, -2.06054688e-01,\n",
       "       -1.31835938e-01,  1.17675781e-01,  1.00097656e-01, -3.67187500e-01,\n",
       "        2.12890625e-01,  2.92968750e-01, -2.92968750e-01,  1.39160156e-02,\n",
       "       -1.16699219e-01,  1.58203125e-01,  1.37695312e-01, -1.93359375e-01,\n",
       "       -2.00195312e-01,  1.12304688e-01,  2.86865234e-02, -2.31445312e-01,\n",
       "       -6.44531250e-02,  5.46875000e-01, -3.61328125e-01,  7.27539062e-02,\n",
       "        1.69921875e-01, -7.71484375e-02,  5.63964844e-02, -2.04101562e-01,\n",
       "       -2.20703125e-01,  2.31933594e-02, -3.00781250e-01, -1.51367188e-01,\n",
       "       -2.47070312e-01, -3.26171875e-01,  1.99890137e-03, -5.05371094e-02,\n",
       "       -1.03027344e-01, -1.88476562e-01,  3.33984375e-01, -9.27734375e-03,\n",
       "       -2.63671875e-01, -1.65039062e-01, -4.00390625e-01, -1.34765625e-01,\n",
       "        6.83593750e-02,  1.06811523e-02, -1.66015625e-01,  1.72851562e-01,\n",
       "       -3.51562500e-02, -9.13085938e-02,  3.11279297e-02, -1.93359375e-01,\n",
       "       -6.25610352e-03,  3.95507812e-02,  1.39648438e-01, -4.96093750e-01,\n",
       "        8.83789062e-02,  2.43164062e-01, -3.08593750e-01, -1.36718750e-01,\n",
       "        8.15429688e-02, -3.39355469e-02, -1.24511719e-01, -9.03320312e-02,\n",
       "        3.45703125e-01, -1.32446289e-02,  2.45117188e-01,  1.31835938e-01,\n",
       "        3.80859375e-01, -2.41210938e-01, -1.91650391e-02, -7.27539062e-02,\n",
       "       -1.67968750e-01,  1.19628906e-01, -7.86132812e-02, -2.11914062e-01,\n",
       "        1.56250000e-01, -1.01074219e-01, -8.78906250e-02, -8.15429688e-02,\n",
       "       -1.04492188e-01, -8.74023438e-02,  1.66015625e-01,  1.74804688e-01,\n",
       "        1.25976562e-01,  1.37695312e-01, -1.02050781e-01,  4.22363281e-02,\n",
       "        1.04980469e-01, -9.17968750e-02, -2.40234375e-01,  1.66992188e-01,\n",
       "       -9.81445312e-02, -1.47460938e-01, -5.71289062e-02,  4.10156250e-02,\n",
       "       -2.73437500e-01, -3.88671875e-01,  1.67236328e-02,  2.94921875e-01,\n",
       "       -1.24023438e-01,  7.47070312e-02,  2.10937500e-01, -4.24804688e-02,\n",
       "        1.90429688e-01, -1.50390625e-01, -1.62109375e-01, -9.13085938e-02,\n",
       "       -3.00781250e-01, -4.58984375e-02,  1.54296875e-01, -2.40234375e-01,\n",
       "        5.83496094e-02, -1.45507812e-01,  8.05664062e-02,  2.08984375e-01,\n",
       "       -1.68457031e-02,  3.51562500e-01,  4.96093750e-01, -9.17968750e-02,\n",
       "       -3.90625000e-02,  2.96875000e-01,  1.53320312e-01, -6.49414062e-02,\n",
       "        3.14453125e-01, -1.27929688e-01,  1.57226562e-01,  1.12792969e-01,\n",
       "        1.65039062e-01,  2.88085938e-02, -1.91406250e-01,  2.51953125e-01,\n",
       "        1.23901367e-02,  1.84570312e-01, -2.46093750e-01, -1.66015625e-01,\n",
       "       -1.47460938e-01, -8.78906250e-03, -1.97265625e-01, -1.46484375e-01,\n",
       "        3.36914062e-02, -8.05664062e-02,  1.48315430e-02,  2.44140625e-02,\n",
       "       -1.19140625e-01, -1.87500000e-01,  2.96875000e-01, -1.15234375e-01,\n",
       "       -1.66015625e-01, -1.22070312e-01,  1.58203125e-01, -1.42578125e-01,\n",
       "       -3.17382812e-02, -3.67187500e-01, -1.86523438e-01, -9.52148438e-02,\n",
       "       -3.84765625e-01, -5.44433594e-02,  2.30468750e-01,  4.39453125e-01,\n",
       "       -1.50390625e-01, -2.33398438e-01,  2.41210938e-01,  9.21630859e-03,\n",
       "        1.40991211e-02,  1.98242188e-01, -1.87500000e-01,  3.37890625e-01,\n",
       "        2.35351562e-01, -2.42187500e-01, -1.91406250e-01, -3.86718750e-01,\n",
       "       -1.25976562e-01, -1.03515625e-01, -1.73339844e-02, -2.35351562e-01,\n",
       "        1.33666992e-02, -2.79296875e-01, -3.08593750e-01,  8.64257812e-02,\n",
       "        2.05078125e-01,  1.56250000e-02,  1.34887695e-02, -1.98974609e-02,\n",
       "        4.34570312e-02, -4.46777344e-02, -2.59765625e-01,  1.39648438e-01,\n",
       "       -1.48437500e-01,  2.55126953e-02,  1.75781250e-01,  1.25000000e-01,\n",
       "        2.17285156e-02, -6.83593750e-02,  3.19824219e-02, -1.27929688e-01,\n",
       "       -1.25000000e-01, -1.61132812e-01,  1.23535156e-01, -1.11328125e-01,\n",
       "       -4.76074219e-02,  1.07288361e-04,  3.73046875e-01,  2.89062500e-01,\n",
       "        1.13525391e-02, -2.19726562e-01, -3.76953125e-01, -1.86767578e-02,\n",
       "       -8.15429688e-02, -1.65039062e-01,  1.55029297e-02, -3.18359375e-01,\n",
       "       -3.37890625e-01, -1.27929688e-01,  1.56250000e-01,  8.59375000e-02,\n",
       "        2.69531250e-01,  3.05175781e-04,  3.61328125e-02, -5.17578125e-02,\n",
       "        1.33789062e-01, -1.29882812e-01, -1.69677734e-02, -2.16796875e-01,\n",
       "        2.14843750e-01,  1.47460938e-01, -2.29492188e-02,  8.44726562e-02,\n",
       "       -2.65625000e-01,  2.67578125e-01, -1.55273438e-01, -6.98242188e-02,\n",
       "        3.12500000e-01, -1.61132812e-01,  1.10351562e-01, -8.49609375e-02,\n",
       "        2.73437500e-01,  5.46875000e-02,  3.78906250e-01,  2.00195312e-01,\n",
       "       -1.23046875e-01,  6.64062500e-02,  4.46777344e-02,  2.50000000e-01,\n",
       "        1.25976562e-01, -2.23632812e-01, -1.93359375e-01,  2.78320312e-02,\n",
       "        2.75390625e-01, -1.57165527e-03, -2.81982422e-02, -2.69531250e-01,\n",
       "       -2.38281250e-01, -1.15203857e-03, -2.87109375e-01, -1.86523438e-01,\n",
       "       -3.20312500e-01, -1.06811523e-02, -2.36328125e-01,  3.16406250e-01,\n",
       "       -1.60156250e-01, -1.91406250e-01, -1.20117188e-01,  3.85742188e-02,\n",
       "       -7.03125000e-02, -9.57031250e-02,  1.52343750e-01,  2.26562500e-01,\n",
       "        1.95312500e-02, -8.93554688e-02,  2.09960938e-01, -7.76367188e-02,\n",
       "       -7.08007812e-02, -5.42968750e-01, -1.96533203e-02,  2.06298828e-02,\n",
       "        2.57812500e-01, -1.75781250e-01,  1.66992188e-01, -1.11328125e-01,\n",
       "       -2.06054688e-01, -7.32421875e-02, -8.05664062e-02,  4.95605469e-02,\n",
       "       -2.55859375e-01,  5.03906250e-01,  8.10546875e-02, -2.91015625e-01,\n",
       "        3.04687500e-01, -2.21679688e-01, -1.28906250e-01, -1.88476562e-01,\n",
       "        3.75976562e-02,  3.53515625e-01,  7.17773438e-02,  3.37890625e-01],\n",
       "      dtype=float32)"
      ]
     },
     "execution_count": 31,
     "metadata": {},
     "output_type": "execute_result"
    }
   ],
   "source": [
    "model.get_vector('tea')"
   ]
  },
  {
   "cell_type": "code",
   "execution_count": 35,
   "metadata": {},
   "outputs": [
    {
     "data": {
      "text/plain": [
       "[('Tea', 0.7009037733078003),\n",
       " ('teas', 0.6727380752563477),\n",
       " ('shape_Angius', 0.6323482990264893),\n",
       " ('activist_Jamie_Radtke', 0.58638596534729),\n",
       " ('decaffeinated_brew', 0.5839536190032959)]"
      ]
     },
     "execution_count": 35,
     "metadata": {},
     "output_type": "execute_result"
    }
   ],
   "source": [
    "model.most_similar('tea',topn = 5)"
   ]
  },
  {
   "cell_type": "code",
   "execution_count": 37,
   "metadata": {},
   "outputs": [
    {
     "data": {
      "text/plain": [
       "[('apples', 0.7203598022460938),\n",
       " ('pear', 0.6450696587562561),\n",
       " ('fruit', 0.6410146355628967),\n",
       " ('berry', 0.6302294731140137),\n",
       " ('pears', 0.6133961081504822),\n",
       " ('strawberry', 0.6058261394500732),\n",
       " ('peach', 0.6025873422622681),\n",
       " ('potato', 0.596093475818634),\n",
       " ('grape', 0.5935864448547363),\n",
       " ('blueberry', 0.5866668224334717)]"
      ]
     },
     "execution_count": 37,
     "metadata": {},
     "output_type": "execute_result"
    }
   ],
   "source": [
    "model.most_similar('apple',topn = 10)"
   ]
  },
  {
   "cell_type": "code",
   "execution_count": null,
   "metadata": {},
   "outputs": [],
   "source": []
  }
 ],
 "metadata": {
  "kernelspec": {
   "display_name": "Python 3",
   "language": "python",
   "name": "python3"
  },
  "language_info": {
   "codemirror_mode": {
    "name": "ipython",
    "version": 3
   },
   "file_extension": ".py",
   "mimetype": "text/x-python",
   "name": "python",
   "nbconvert_exporter": "python",
   "pygments_lexer": "ipython3",
   "version": "3.6.8"
  }
 },
 "nbformat": 4,
 "nbformat_minor": 2
}
